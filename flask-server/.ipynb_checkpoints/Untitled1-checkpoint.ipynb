{
 "cells": [
  {
   "cell_type": "code",
   "execution_count": 1,
   "id": "96229bfb-1028-492d-a4c5-89d6332bd63a",
   "metadata": {},
   "outputs": [],
   "source": [
    "import pandas as pd"
   ]
  },
  {
   "cell_type": "code",
   "execution_count": 2,
   "id": "acf0d459-d370-45bd-8a51-c605442a34ac",
   "metadata": {},
   "outputs": [],
   "source": [
    "courses=pd.read_csv('dataset.csv')"
   ]
  },
  {
   "cell_type": "code",
   "execution_count": 3,
   "id": "d5c4c12d-87be-4475-b913-c49845c62c08",
   "metadata": {},
   "outputs": [
    {
     "data": {
      "text/html": [
       "<div>\n",
       "<style scoped>\n",
       "    .dataframe tbody tr th:only-of-type {\n",
       "        vertical-align: middle;\n",
       "    }\n",
       "\n",
       "    .dataframe tbody tr th {\n",
       "        vertical-align: top;\n",
       "    }\n",
       "\n",
       "    .dataframe thead th {\n",
       "        text-align: right;\n",
       "    }\n",
       "</style>\n",
       "<table border=\"1\" class=\"dataframe\">\n",
       "  <thead>\n",
       "    <tr style=\"text-align: right;\">\n",
       "      <th></th>\n",
       "      <th>Employee</th>\n",
       "      <th>Age</th>\n",
       "      <th>Work Experience</th>\n",
       "      <th>Technical Skills</th>\n",
       "      <th>Soft Skills</th>\n",
       "      <th>Projects Completed</th>\n",
       "      <th>Interests and Passions</th>\n",
       "      <th>Position</th>\n",
       "      <th>Career Aspirations</th>\n",
       "      <th>Courses Completed</th>\n",
       "      <th>List of Courses</th>\n",
       "      <th>Learning Paths (with Ratings)</th>\n",
       "    </tr>\n",
       "  </thead>\n",
       "  <tbody>\n",
       "    <tr>\n",
       "      <th>0</th>\n",
       "      <td>John Smith</td>\n",
       "      <td>30.0</td>\n",
       "      <td>8 years</td>\n",
       "      <td>Python, Java, SQL</td>\n",
       "      <td>Problem-solving, Communication</td>\n",
       "      <td>CRM System, E-commerce Website</td>\n",
       "      <td>AI, Cybersecurity</td>\n",
       "      <td>Senior Software Engineer</td>\n",
       "      <td>Technical Architect</td>\n",
       "      <td>Advanced Software Architecture (4.3), System D...</td>\n",
       "      <td>Advanced Software Architecture (4.3)</td>\n",
       "      <td>- Master's in Software Engineering (Rating: 4....</td>\n",
       "    </tr>\n",
       "    <tr>\n",
       "      <th>1</th>\n",
       "      <td>Sarah Johnson</td>\n",
       "      <td>28.0</td>\n",
       "      <td>6 years</td>\n",
       "      <td>JavaScript, HTML/CSS, React</td>\n",
       "      <td>Teamwork, Leadership</td>\n",
       "      <td>Mobile App Development, UX Redesign</td>\n",
       "      <td>Web Development, UX Design</td>\n",
       "      <td>Front-End Developer</td>\n",
       "      <td>Transitioning to UX Design</td>\n",
       "      <td>UX Fundamentals (4.1), UI Design Principles (4...</td>\n",
       "      <td>System Design Principles (4.5)</td>\n",
       "      <td>- UI/UX Design Certification (Rating: 4.6) - A...</td>\n",
       "    </tr>\n",
       "    <tr>\n",
       "      <th>2</th>\n",
       "      <td>Michael Brown</td>\n",
       "      <td>35.0</td>\n",
       "      <td>12 years</td>\n",
       "      <td>C++, Linux, DevOps</td>\n",
       "      <td>Project Management, Collaboration</td>\n",
       "      <td>Cloud Migration, CI/CD Implementation</td>\n",
       "      <td>DevOps, Automation</td>\n",
       "      <td>DevOps Engineer</td>\n",
       "      <td>DevOps Manager</td>\n",
       "      <td>DevOps Best Practices (4.4), Automation with A...</td>\n",
       "      <td>Cloud Solutions (4.2)</td>\n",
       "      <td>- DevOps Certification (Rating: 4.7) - Project...</td>\n",
       "    </tr>\n",
       "  </tbody>\n",
       "</table>\n",
       "</div>"
      ],
      "text/plain": [
       "        Employee   Age Work Experience             Technical Skills  \\\n",
       "0     John Smith  30.0         8 years            Python, Java, SQL   \n",
       "1  Sarah Johnson  28.0         6 years  JavaScript, HTML/CSS, React   \n",
       "2  Michael Brown  35.0        12 years           C++, Linux, DevOps   \n",
       "\n",
       "                         Soft Skills                     Projects Completed  \\\n",
       "0     Problem-solving, Communication         CRM System, E-commerce Website   \n",
       "1               Teamwork, Leadership    Mobile App Development, UX Redesign   \n",
       "2  Project Management, Collaboration  Cloud Migration, CI/CD Implementation   \n",
       "\n",
       "       Interests and Passions                  Position  \\\n",
       "0           AI, Cybersecurity  Senior Software Engineer   \n",
       "1  Web Development, UX Design       Front-End Developer   \n",
       "2          DevOps, Automation           DevOps Engineer   \n",
       "\n",
       "           Career Aspirations  \\\n",
       "0         Technical Architect   \n",
       "1  Transitioning to UX Design   \n",
       "2              DevOps Manager   \n",
       "\n",
       "                                   Courses Completed  \\\n",
       "0  Advanced Software Architecture (4.3), System D...   \n",
       "1  UX Fundamentals (4.1), UI Design Principles (4...   \n",
       "2  DevOps Best Practices (4.4), Automation with A...   \n",
       "\n",
       "                        List of Courses  \\\n",
       "0  Advanced Software Architecture (4.3)   \n",
       "1        System Design Principles (4.5)   \n",
       "2                 Cloud Solutions (4.2)   \n",
       "\n",
       "                       Learning Paths (with Ratings)  \n",
       "0  - Master's in Software Engineering (Rating: 4....  \n",
       "1  - UI/UX Design Certification (Rating: 4.6) - A...  \n",
       "2  - DevOps Certification (Rating: 4.7) - Project...  "
      ]
     },
     "execution_count": 3,
     "metadata": {},
     "output_type": "execute_result"
    }
   ],
   "source": [
    "courses.head(3)"
   ]
  },
  {
   "cell_type": "code",
   "execution_count": 4,
   "id": "9c3b7d1d-331e-4fdc-95f3-50f579e0da07",
   "metadata": {},
   "outputs": [
    {
     "data": {
      "text/plain": [
       "Index(['Employee', 'Age', 'Work Experience', 'Technical Skills', 'Soft Skills',\n",
       "       'Projects Completed', 'Interests and Passions', 'Position',\n",
       "       'Career Aspirations', 'Courses Completed', 'List of Courses',\n",
       "       'Learning Paths (with Ratings)'],\n",
       "      dtype='object')"
      ]
     },
     "execution_count": 4,
     "metadata": {},
     "output_type": "execute_result"
    }
   ],
   "source": [
    "courses.columns"
   ]
  },
  {
   "cell_type": "code",
   "execution_count": 5,
   "id": "e0c695e0-2edf-4576-95bd-f15a55aacd16",
   "metadata": {},
   "outputs": [],
   "source": [
    "courses=courses[['Work Experience', 'Technical Skills', 'Soft Skills',\n",
    "       'Projects Completed', 'Interests and Passions', 'Position',\n",
    "       'Career Aspirations', 'Courses Completed', 'List of Courses',\n",
    "       'Learning Paths (with Ratings)']]"
   ]
  },
  {
   "cell_type": "code",
   "execution_count": 6,
   "id": "86c76f69-931c-4598-afa5-932980a7f169",
   "metadata": {},
   "outputs": [
    {
     "data": {
      "text/html": [
       "<div>\n",
       "<style scoped>\n",
       "    .dataframe tbody tr th:only-of-type {\n",
       "        vertical-align: middle;\n",
       "    }\n",
       "\n",
       "    .dataframe tbody tr th {\n",
       "        vertical-align: top;\n",
       "    }\n",
       "\n",
       "    .dataframe thead th {\n",
       "        text-align: right;\n",
       "    }\n",
       "</style>\n",
       "<table border=\"1\" class=\"dataframe\">\n",
       "  <thead>\n",
       "    <tr style=\"text-align: right;\">\n",
       "      <th></th>\n",
       "      <th>Work Experience</th>\n",
       "      <th>Technical Skills</th>\n",
       "      <th>Soft Skills</th>\n",
       "      <th>Projects Completed</th>\n",
       "      <th>Interests and Passions</th>\n",
       "      <th>Position</th>\n",
       "      <th>Career Aspirations</th>\n",
       "      <th>Courses Completed</th>\n",
       "      <th>List of Courses</th>\n",
       "      <th>Learning Paths (with Ratings)</th>\n",
       "    </tr>\n",
       "  </thead>\n",
       "  <tbody>\n",
       "    <tr>\n",
       "      <th>0</th>\n",
       "      <td>8 years</td>\n",
       "      <td>Python, Java, SQL</td>\n",
       "      <td>Problem-solving, Communication</td>\n",
       "      <td>CRM System, E-commerce Website</td>\n",
       "      <td>AI, Cybersecurity</td>\n",
       "      <td>Senior Software Engineer</td>\n",
       "      <td>Technical Architect</td>\n",
       "      <td>Advanced Software Architecture (4.3), System D...</td>\n",
       "      <td>Advanced Software Architecture (4.3)</td>\n",
       "      <td>- Master's in Software Engineering (Rating: 4....</td>\n",
       "    </tr>\n",
       "    <tr>\n",
       "      <th>1</th>\n",
       "      <td>6 years</td>\n",
       "      <td>JavaScript, HTML/CSS, React</td>\n",
       "      <td>Teamwork, Leadership</td>\n",
       "      <td>Mobile App Development, UX Redesign</td>\n",
       "      <td>Web Development, UX Design</td>\n",
       "      <td>Front-End Developer</td>\n",
       "      <td>Transitioning to UX Design</td>\n",
       "      <td>UX Fundamentals (4.1), UI Design Principles (4...</td>\n",
       "      <td>System Design Principles (4.5)</td>\n",
       "      <td>- UI/UX Design Certification (Rating: 4.6) - A...</td>\n",
       "    </tr>\n",
       "    <tr>\n",
       "      <th>2</th>\n",
       "      <td>12 years</td>\n",
       "      <td>C++, Linux, DevOps</td>\n",
       "      <td>Project Management, Collaboration</td>\n",
       "      <td>Cloud Migration, CI/CD Implementation</td>\n",
       "      <td>DevOps, Automation</td>\n",
       "      <td>DevOps Engineer</td>\n",
       "      <td>DevOps Manager</td>\n",
       "      <td>DevOps Best Practices (4.4), Automation with A...</td>\n",
       "      <td>Cloud Solutions (4.2)</td>\n",
       "      <td>- DevOps Certification (Rating: 4.7) - Project...</td>\n",
       "    </tr>\n",
       "    <tr>\n",
       "      <th>3</th>\n",
       "      <td>4 years</td>\n",
       "      <td>Java, Spring Boot, MySQL</td>\n",
       "      <td>Problem-solving, Adaptability</td>\n",
       "      <td>Inventory Management System, API Development</td>\n",
       "      <td>Database Management, Backend Development</td>\n",
       "      <td>Junior Software Developer</td>\n",
       "      <td>Advancing to Senior Developer</td>\n",
       "      <td>Object-Oriented Programming (3.9), Software Te...</td>\n",
       "      <td>UX Fundamentals (4.1)</td>\n",
       "      <td>- Bachelor's in Computer Science (Rating: 4.5)...</td>\n",
       "    </tr>\n",
       "    <tr>\n",
       "      <th>4</th>\n",
       "      <td>10 years</td>\n",
       "      <td>Python, Machine Learning, Data Analysis</td>\n",
       "      <td>Data Visualization, Critical Thinking</td>\n",
       "      <td>Predictive Analytics, Data Dashboards</td>\n",
       "      <td>Data Science, AI</td>\n",
       "      <td>Data Scientist</td>\n",
       "      <td>Pursuing a Ph.D. in Data Science</td>\n",
       "      <td>Machine Learning Foundations (4.3), Data Analy...</td>\n",
       "      <td>UI Design Principles (4.0)</td>\n",
       "      <td>- Machine Learning Specialization (Rating: 4.5...</td>\n",
       "    </tr>\n",
       "    <tr>\n",
       "      <th>...</th>\n",
       "      <td>...</td>\n",
       "      <td>...</td>\n",
       "      <td>...</td>\n",
       "      <td>...</td>\n",
       "      <td>...</td>\n",
       "      <td>...</td>\n",
       "      <td>...</td>\n",
       "      <td>...</td>\n",
       "      <td>...</td>\n",
       "      <td>...</td>\n",
       "    </tr>\n",
       "    <tr>\n",
       "      <th>130</th>\n",
       "      <td>NaN</td>\n",
       "      <td>NaN</td>\n",
       "      <td>NaN</td>\n",
       "      <td>NaN</td>\n",
       "      <td>NaN</td>\n",
       "      <td>NaN</td>\n",
       "      <td>NaN</td>\n",
       "      <td>NaN</td>\n",
       "      <td>Linux Kernel Development (Rating: 4.5)</td>\n",
       "      <td>NaN</td>\n",
       "    </tr>\n",
       "    <tr>\n",
       "      <th>131</th>\n",
       "      <td>NaN</td>\n",
       "      <td>NaN</td>\n",
       "      <td>NaN</td>\n",
       "      <td>NaN</td>\n",
       "      <td>NaN</td>\n",
       "      <td>NaN</td>\n",
       "      <td>NaN</td>\n",
       "      <td>NaN</td>\n",
       "      <td>Real-Time Operating Systems (RTOS) (Rating: 4.2)</td>\n",
       "      <td>NaN</td>\n",
       "    </tr>\n",
       "    <tr>\n",
       "      <th>132</th>\n",
       "      <td>NaN</td>\n",
       "      <td>NaN</td>\n",
       "      <td>NaN</td>\n",
       "      <td>NaN</td>\n",
       "      <td>NaN</td>\n",
       "      <td>NaN</td>\n",
       "      <td>NaN</td>\n",
       "      <td>NaN</td>\n",
       "      <td>Embedded Systems Testing and Debugging (Rating...</td>\n",
       "      <td>NaN</td>\n",
       "    </tr>\n",
       "    <tr>\n",
       "      <th>133</th>\n",
       "      <td>NaN</td>\n",
       "      <td>NaN</td>\n",
       "      <td>NaN</td>\n",
       "      <td>NaN</td>\n",
       "      <td>NaN</td>\n",
       "      <td>NaN</td>\n",
       "      <td>NaN</td>\n",
       "      <td>NaN</td>\n",
       "      <td>Spring Framework Mastery (Rating: 4.5)</td>\n",
       "      <td>NaN</td>\n",
       "    </tr>\n",
       "    <tr>\n",
       "      <th>134</th>\n",
       "      <td>NaN</td>\n",
       "      <td>NaN</td>\n",
       "      <td>NaN</td>\n",
       "      <td>NaN</td>\n",
       "      <td>NaN</td>\n",
       "      <td>NaN</td>\n",
       "      <td>NaN</td>\n",
       "      <td>NaN</td>\n",
       "      <td>SQL Performance Optimization (Rating: 4.4)</td>\n",
       "      <td>NaN</td>\n",
       "    </tr>\n",
       "  </tbody>\n",
       "</table>\n",
       "<p>135 rows × 10 columns</p>\n",
       "</div>"
      ],
      "text/plain": [
       "    Work Experience                         Technical Skills  \\\n",
       "0           8 years                        Python, Java, SQL   \n",
       "1           6 years              JavaScript, HTML/CSS, React   \n",
       "2          12 years                       C++, Linux, DevOps   \n",
       "3           4 years                 Java, Spring Boot, MySQL   \n",
       "4          10 years  Python, Machine Learning, Data Analysis   \n",
       "..              ...                                      ...   \n",
       "130             NaN                                      NaN   \n",
       "131             NaN                                      NaN   \n",
       "132             NaN                                      NaN   \n",
       "133             NaN                                      NaN   \n",
       "134             NaN                                      NaN   \n",
       "\n",
       "                               Soft Skills  \\\n",
       "0           Problem-solving, Communication   \n",
       "1                     Teamwork, Leadership   \n",
       "2        Project Management, Collaboration   \n",
       "3            Problem-solving, Adaptability   \n",
       "4    Data Visualization, Critical Thinking   \n",
       "..                                     ...   \n",
       "130                                    NaN   \n",
       "131                                    NaN   \n",
       "132                                    NaN   \n",
       "133                                    NaN   \n",
       "134                                    NaN   \n",
       "\n",
       "                               Projects Completed  \\\n",
       "0                  CRM System, E-commerce Website   \n",
       "1             Mobile App Development, UX Redesign   \n",
       "2           Cloud Migration, CI/CD Implementation   \n",
       "3    Inventory Management System, API Development   \n",
       "4           Predictive Analytics, Data Dashboards   \n",
       "..                                            ...   \n",
       "130                                           NaN   \n",
       "131                                           NaN   \n",
       "132                                           NaN   \n",
       "133                                           NaN   \n",
       "134                                           NaN   \n",
       "\n",
       "                       Interests and Passions                   Position  \\\n",
       "0                           AI, Cybersecurity   Senior Software Engineer   \n",
       "1                  Web Development, UX Design        Front-End Developer   \n",
       "2                          DevOps, Automation            DevOps Engineer   \n",
       "3    Database Management, Backend Development  Junior Software Developer   \n",
       "4                            Data Science, AI             Data Scientist   \n",
       "..                                        ...                        ...   \n",
       "130                                       NaN                        NaN   \n",
       "131                                       NaN                        NaN   \n",
       "132                                       NaN                        NaN   \n",
       "133                                       NaN                        NaN   \n",
       "134                                       NaN                        NaN   \n",
       "\n",
       "                   Career Aspirations  \\\n",
       "0                 Technical Architect   \n",
       "1          Transitioning to UX Design   \n",
       "2                      DevOps Manager   \n",
       "3       Advancing to Senior Developer   \n",
       "4    Pursuing a Ph.D. in Data Science   \n",
       "..                                ...   \n",
       "130                               NaN   \n",
       "131                               NaN   \n",
       "132                               NaN   \n",
       "133                               NaN   \n",
       "134                               NaN   \n",
       "\n",
       "                                     Courses Completed  \\\n",
       "0    Advanced Software Architecture (4.3), System D...   \n",
       "1    UX Fundamentals (4.1), UI Design Principles (4...   \n",
       "2    DevOps Best Practices (4.4), Automation with A...   \n",
       "3    Object-Oriented Programming (3.9), Software Te...   \n",
       "4    Machine Learning Foundations (4.3), Data Analy...   \n",
       "..                                                 ...   \n",
       "130                                                NaN   \n",
       "131                                                NaN   \n",
       "132                                                NaN   \n",
       "133                                                NaN   \n",
       "134                                                NaN   \n",
       "\n",
       "                                       List of Courses  \\\n",
       "0                 Advanced Software Architecture (4.3)   \n",
       "1                       System Design Principles (4.5)   \n",
       "2                                Cloud Solutions (4.2)   \n",
       "3                                UX Fundamentals (4.1)   \n",
       "4                           UI Design Principles (4.0)   \n",
       "..                                                 ...   \n",
       "130             Linux Kernel Development (Rating: 4.5)   \n",
       "131   Real-Time Operating Systems (RTOS) (Rating: 4.2)   \n",
       "132  Embedded Systems Testing and Debugging (Rating...   \n",
       "133             Spring Framework Mastery (Rating: 4.5)   \n",
       "134         SQL Performance Optimization (Rating: 4.4)   \n",
       "\n",
       "                         Learning Paths (with Ratings)  \n",
       "0    - Master's in Software Engineering (Rating: 4....  \n",
       "1    - UI/UX Design Certification (Rating: 4.6) - A...  \n",
       "2    - DevOps Certification (Rating: 4.7) - Project...  \n",
       "3    - Bachelor's in Computer Science (Rating: 4.5)...  \n",
       "4    - Machine Learning Specialization (Rating: 4.5...  \n",
       "..                                                 ...  \n",
       "130                                                NaN  \n",
       "131                                                NaN  \n",
       "132                                                NaN  \n",
       "133                                                NaN  \n",
       "134                                                NaN  \n",
       "\n",
       "[135 rows x 10 columns]"
      ]
     },
     "execution_count": 6,
     "metadata": {},
     "output_type": "execute_result"
    }
   ],
   "source": [
    "courses"
   ]
  },
  {
   "cell_type": "code",
   "execution_count": 7,
   "id": "c01a92f3-f80d-4c89-bfe0-6b3139f82e93",
   "metadata": {},
   "outputs": [],
   "source": [
    "courses['tags'] = courses['Work Experience'] + courses['Technical Skills'] + courses['Soft Skills']+ courses['Projects Completed']+ courses['Interests and Passions']+ courses['Position']+ courses['Career Aspirations']+ courses['Courses Completed']+ courses['Learning Paths (with Ratings)']"
   ]
  },
  {
   "cell_type": "code",
   "execution_count": 8,
   "id": "233fbfe6-c614-4043-b28d-f8debe708870",
   "metadata": {},
   "outputs": [
    {
     "data": {
      "text/html": [
       "<div>\n",
       "<style scoped>\n",
       "    .dataframe tbody tr th:only-of-type {\n",
       "        vertical-align: middle;\n",
       "    }\n",
       "\n",
       "    .dataframe tbody tr th {\n",
       "        vertical-align: top;\n",
       "    }\n",
       "\n",
       "    .dataframe thead th {\n",
       "        text-align: right;\n",
       "    }\n",
       "</style>\n",
       "<table border=\"1\" class=\"dataframe\">\n",
       "  <thead>\n",
       "    <tr style=\"text-align: right;\">\n",
       "      <th></th>\n",
       "      <th>Work Experience</th>\n",
       "      <th>Technical Skills</th>\n",
       "      <th>Soft Skills</th>\n",
       "      <th>Projects Completed</th>\n",
       "      <th>Interests and Passions</th>\n",
       "      <th>Position</th>\n",
       "      <th>Career Aspirations</th>\n",
       "      <th>Courses Completed</th>\n",
       "      <th>List of Courses</th>\n",
       "      <th>Learning Paths (with Ratings)</th>\n",
       "      <th>tags</th>\n",
       "    </tr>\n",
       "  </thead>\n",
       "  <tbody>\n",
       "    <tr>\n",
       "      <th>0</th>\n",
       "      <td>8 years</td>\n",
       "      <td>Python, Java, SQL</td>\n",
       "      <td>Problem-solving, Communication</td>\n",
       "      <td>CRM System, E-commerce Website</td>\n",
       "      <td>AI, Cybersecurity</td>\n",
       "      <td>Senior Software Engineer</td>\n",
       "      <td>Technical Architect</td>\n",
       "      <td>Advanced Software Architecture (4.3), System D...</td>\n",
       "      <td>Advanced Software Architecture (4.3)</td>\n",
       "      <td>- Master's in Software Engineering (Rating: 4....</td>\n",
       "      <td>8 yearsPython, Java, SQLProblem-solving, Commu...</td>\n",
       "    </tr>\n",
       "    <tr>\n",
       "      <th>1</th>\n",
       "      <td>6 years</td>\n",
       "      <td>JavaScript, HTML/CSS, React</td>\n",
       "      <td>Teamwork, Leadership</td>\n",
       "      <td>Mobile App Development, UX Redesign</td>\n",
       "      <td>Web Development, UX Design</td>\n",
       "      <td>Front-End Developer</td>\n",
       "      <td>Transitioning to UX Design</td>\n",
       "      <td>UX Fundamentals (4.1), UI Design Principles (4...</td>\n",
       "      <td>System Design Principles (4.5)</td>\n",
       "      <td>- UI/UX Design Certification (Rating: 4.6) - A...</td>\n",
       "      <td>6 yearsJavaScript, HTML/CSS, ReactTeamwork, Le...</td>\n",
       "    </tr>\n",
       "    <tr>\n",
       "      <th>2</th>\n",
       "      <td>12 years</td>\n",
       "      <td>C++, Linux, DevOps</td>\n",
       "      <td>Project Management, Collaboration</td>\n",
       "      <td>Cloud Migration, CI/CD Implementation</td>\n",
       "      <td>DevOps, Automation</td>\n",
       "      <td>DevOps Engineer</td>\n",
       "      <td>DevOps Manager</td>\n",
       "      <td>DevOps Best Practices (4.4), Automation with A...</td>\n",
       "      <td>Cloud Solutions (4.2)</td>\n",
       "      <td>- DevOps Certification (Rating: 4.7) - Project...</td>\n",
       "      <td>12 yearsC++, Linux, DevOpsProject Management, ...</td>\n",
       "    </tr>\n",
       "    <tr>\n",
       "      <th>3</th>\n",
       "      <td>4 years</td>\n",
       "      <td>Java, Spring Boot, MySQL</td>\n",
       "      <td>Problem-solving, Adaptability</td>\n",
       "      <td>Inventory Management System, API Development</td>\n",
       "      <td>Database Management, Backend Development</td>\n",
       "      <td>Junior Software Developer</td>\n",
       "      <td>Advancing to Senior Developer</td>\n",
       "      <td>Object-Oriented Programming (3.9), Software Te...</td>\n",
       "      <td>UX Fundamentals (4.1)</td>\n",
       "      <td>- Bachelor's in Computer Science (Rating: 4.5)...</td>\n",
       "      <td>4 yearsJava, Spring Boot, MySQLProblem-solving...</td>\n",
       "    </tr>\n",
       "    <tr>\n",
       "      <th>4</th>\n",
       "      <td>10 years</td>\n",
       "      <td>Python, Machine Learning, Data Analysis</td>\n",
       "      <td>Data Visualization, Critical Thinking</td>\n",
       "      <td>Predictive Analytics, Data Dashboards</td>\n",
       "      <td>Data Science, AI</td>\n",
       "      <td>Data Scientist</td>\n",
       "      <td>Pursuing a Ph.D. in Data Science</td>\n",
       "      <td>Machine Learning Foundations (4.3), Data Analy...</td>\n",
       "      <td>UI Design Principles (4.0)</td>\n",
       "      <td>- Machine Learning Specialization (Rating: 4.5...</td>\n",
       "      <td>10 yearsPython, Machine Learning, Data Analysi...</td>\n",
       "    </tr>\n",
       "    <tr>\n",
       "      <th>...</th>\n",
       "      <td>...</td>\n",
       "      <td>...</td>\n",
       "      <td>...</td>\n",
       "      <td>...</td>\n",
       "      <td>...</td>\n",
       "      <td>...</td>\n",
       "      <td>...</td>\n",
       "      <td>...</td>\n",
       "      <td>...</td>\n",
       "      <td>...</td>\n",
       "      <td>...</td>\n",
       "    </tr>\n",
       "    <tr>\n",
       "      <th>130</th>\n",
       "      <td>NaN</td>\n",
       "      <td>NaN</td>\n",
       "      <td>NaN</td>\n",
       "      <td>NaN</td>\n",
       "      <td>NaN</td>\n",
       "      <td>NaN</td>\n",
       "      <td>NaN</td>\n",
       "      <td>NaN</td>\n",
       "      <td>Linux Kernel Development (Rating: 4.5)</td>\n",
       "      <td>NaN</td>\n",
       "      <td>NaN</td>\n",
       "    </tr>\n",
       "    <tr>\n",
       "      <th>131</th>\n",
       "      <td>NaN</td>\n",
       "      <td>NaN</td>\n",
       "      <td>NaN</td>\n",
       "      <td>NaN</td>\n",
       "      <td>NaN</td>\n",
       "      <td>NaN</td>\n",
       "      <td>NaN</td>\n",
       "      <td>NaN</td>\n",
       "      <td>Real-Time Operating Systems (RTOS) (Rating: 4.2)</td>\n",
       "      <td>NaN</td>\n",
       "      <td>NaN</td>\n",
       "    </tr>\n",
       "    <tr>\n",
       "      <th>132</th>\n",
       "      <td>NaN</td>\n",
       "      <td>NaN</td>\n",
       "      <td>NaN</td>\n",
       "      <td>NaN</td>\n",
       "      <td>NaN</td>\n",
       "      <td>NaN</td>\n",
       "      <td>NaN</td>\n",
       "      <td>NaN</td>\n",
       "      <td>Embedded Systems Testing and Debugging (Rating...</td>\n",
       "      <td>NaN</td>\n",
       "      <td>NaN</td>\n",
       "    </tr>\n",
       "    <tr>\n",
       "      <th>133</th>\n",
       "      <td>NaN</td>\n",
       "      <td>NaN</td>\n",
       "      <td>NaN</td>\n",
       "      <td>NaN</td>\n",
       "      <td>NaN</td>\n",
       "      <td>NaN</td>\n",
       "      <td>NaN</td>\n",
       "      <td>NaN</td>\n",
       "      <td>Spring Framework Mastery (Rating: 4.5)</td>\n",
       "      <td>NaN</td>\n",
       "      <td>NaN</td>\n",
       "    </tr>\n",
       "    <tr>\n",
       "      <th>134</th>\n",
       "      <td>NaN</td>\n",
       "      <td>NaN</td>\n",
       "      <td>NaN</td>\n",
       "      <td>NaN</td>\n",
       "      <td>NaN</td>\n",
       "      <td>NaN</td>\n",
       "      <td>NaN</td>\n",
       "      <td>NaN</td>\n",
       "      <td>SQL Performance Optimization (Rating: 4.4)</td>\n",
       "      <td>NaN</td>\n",
       "      <td>NaN</td>\n",
       "    </tr>\n",
       "  </tbody>\n",
       "</table>\n",
       "<p>135 rows × 11 columns</p>\n",
       "</div>"
      ],
      "text/plain": [
       "    Work Experience                         Technical Skills  \\\n",
       "0           8 years                        Python, Java, SQL   \n",
       "1           6 years              JavaScript, HTML/CSS, React   \n",
       "2          12 years                       C++, Linux, DevOps   \n",
       "3           4 years                 Java, Spring Boot, MySQL   \n",
       "4          10 years  Python, Machine Learning, Data Analysis   \n",
       "..              ...                                      ...   \n",
       "130             NaN                                      NaN   \n",
       "131             NaN                                      NaN   \n",
       "132             NaN                                      NaN   \n",
       "133             NaN                                      NaN   \n",
       "134             NaN                                      NaN   \n",
       "\n",
       "                               Soft Skills  \\\n",
       "0           Problem-solving, Communication   \n",
       "1                     Teamwork, Leadership   \n",
       "2        Project Management, Collaboration   \n",
       "3            Problem-solving, Adaptability   \n",
       "4    Data Visualization, Critical Thinking   \n",
       "..                                     ...   \n",
       "130                                    NaN   \n",
       "131                                    NaN   \n",
       "132                                    NaN   \n",
       "133                                    NaN   \n",
       "134                                    NaN   \n",
       "\n",
       "                               Projects Completed  \\\n",
       "0                  CRM System, E-commerce Website   \n",
       "1             Mobile App Development, UX Redesign   \n",
       "2           Cloud Migration, CI/CD Implementation   \n",
       "3    Inventory Management System, API Development   \n",
       "4           Predictive Analytics, Data Dashboards   \n",
       "..                                            ...   \n",
       "130                                           NaN   \n",
       "131                                           NaN   \n",
       "132                                           NaN   \n",
       "133                                           NaN   \n",
       "134                                           NaN   \n",
       "\n",
       "                       Interests and Passions                   Position  \\\n",
       "0                           AI, Cybersecurity   Senior Software Engineer   \n",
       "1                  Web Development, UX Design        Front-End Developer   \n",
       "2                          DevOps, Automation            DevOps Engineer   \n",
       "3    Database Management, Backend Development  Junior Software Developer   \n",
       "4                            Data Science, AI             Data Scientist   \n",
       "..                                        ...                        ...   \n",
       "130                                       NaN                        NaN   \n",
       "131                                       NaN                        NaN   \n",
       "132                                       NaN                        NaN   \n",
       "133                                       NaN                        NaN   \n",
       "134                                       NaN                        NaN   \n",
       "\n",
       "                   Career Aspirations  \\\n",
       "0                 Technical Architect   \n",
       "1          Transitioning to UX Design   \n",
       "2                      DevOps Manager   \n",
       "3       Advancing to Senior Developer   \n",
       "4    Pursuing a Ph.D. in Data Science   \n",
       "..                                ...   \n",
       "130                               NaN   \n",
       "131                               NaN   \n",
       "132                               NaN   \n",
       "133                               NaN   \n",
       "134                               NaN   \n",
       "\n",
       "                                     Courses Completed  \\\n",
       "0    Advanced Software Architecture (4.3), System D...   \n",
       "1    UX Fundamentals (4.1), UI Design Principles (4...   \n",
       "2    DevOps Best Practices (4.4), Automation with A...   \n",
       "3    Object-Oriented Programming (3.9), Software Te...   \n",
       "4    Machine Learning Foundations (4.3), Data Analy...   \n",
       "..                                                 ...   \n",
       "130                                                NaN   \n",
       "131                                                NaN   \n",
       "132                                                NaN   \n",
       "133                                                NaN   \n",
       "134                                                NaN   \n",
       "\n",
       "                                       List of Courses  \\\n",
       "0                 Advanced Software Architecture (4.3)   \n",
       "1                       System Design Principles (4.5)   \n",
       "2                                Cloud Solutions (4.2)   \n",
       "3                                UX Fundamentals (4.1)   \n",
       "4                           UI Design Principles (4.0)   \n",
       "..                                                 ...   \n",
       "130             Linux Kernel Development (Rating: 4.5)   \n",
       "131   Real-Time Operating Systems (RTOS) (Rating: 4.2)   \n",
       "132  Embedded Systems Testing and Debugging (Rating...   \n",
       "133             Spring Framework Mastery (Rating: 4.5)   \n",
       "134         SQL Performance Optimization (Rating: 4.4)   \n",
       "\n",
       "                         Learning Paths (with Ratings)  \\\n",
       "0    - Master's in Software Engineering (Rating: 4....   \n",
       "1    - UI/UX Design Certification (Rating: 4.6) - A...   \n",
       "2    - DevOps Certification (Rating: 4.7) - Project...   \n",
       "3    - Bachelor's in Computer Science (Rating: 4.5)...   \n",
       "4    - Machine Learning Specialization (Rating: 4.5...   \n",
       "..                                                 ...   \n",
       "130                                                NaN   \n",
       "131                                                NaN   \n",
       "132                                                NaN   \n",
       "133                                                NaN   \n",
       "134                                                NaN   \n",
       "\n",
       "                                                  tags  \n",
       "0    8 yearsPython, Java, SQLProblem-solving, Commu...  \n",
       "1    6 yearsJavaScript, HTML/CSS, ReactTeamwork, Le...  \n",
       "2    12 yearsC++, Linux, DevOpsProject Management, ...  \n",
       "3    4 yearsJava, Spring Boot, MySQLProblem-solving...  \n",
       "4    10 yearsPython, Machine Learning, Data Analysi...  \n",
       "..                                                 ...  \n",
       "130                                                NaN  \n",
       "131                                                NaN  \n",
       "132                                                NaN  \n",
       "133                                                NaN  \n",
       "134                                                NaN  \n",
       "\n",
       "[135 rows x 11 columns]"
      ]
     },
     "execution_count": 8,
     "metadata": {},
     "output_type": "execute_result"
    }
   ],
   "source": [
    "courses"
   ]
  },
  {
   "cell_type": "code",
   "execution_count": 9,
   "id": "f7763a03-c289-4f69-9eb8-6b2a87b18270",
   "metadata": {},
   "outputs": [],
   "source": [
    "from sklearn.feature_extraction.text import CountVectorizer"
   ]
  },
  {
   "cell_type": "code",
   "execution_count": 10,
   "id": "c94e6cdf-dc59-4a2f-aeea-6d8385279262",
   "metadata": {},
   "outputs": [],
   "source": [
    "cv=CountVectorizer(max_features=136, stop_words='english')"
   ]
  },
  {
   "cell_type": "code",
   "execution_count": 11,
   "id": "9a35069c-e166-49c8-83ac-f7d4da9e7c68",
   "metadata": {},
   "outputs": [],
   "source": [
    "vector=cv.fit_transform(courses['tags'].values.astype('U')).toarray()"
   ]
  },
  {
   "cell_type": "code",
   "execution_count": 12,
   "id": "43ac2dd8-5d81-4b6a-bb6b-8d044827df42",
   "metadata": {},
   "outputs": [
    {
     "data": {
      "text/html": [
       "<style>#sk-container-id-1 {color: black;}#sk-container-id-1 pre{padding: 0;}#sk-container-id-1 div.sk-toggleable {background-color: white;}#sk-container-id-1 label.sk-toggleable__label {cursor: pointer;display: block;width: 100%;margin-bottom: 0;padding: 0.3em;box-sizing: border-box;text-align: center;}#sk-container-id-1 label.sk-toggleable__label-arrow:before {content: \"▸\";float: left;margin-right: 0.25em;color: #696969;}#sk-container-id-1 label.sk-toggleable__label-arrow:hover:before {color: black;}#sk-container-id-1 div.sk-estimator:hover label.sk-toggleable__label-arrow:before {color: black;}#sk-container-id-1 div.sk-toggleable__content {max-height: 0;max-width: 0;overflow: hidden;text-align: left;background-color: #f0f8ff;}#sk-container-id-1 div.sk-toggleable__content pre {margin: 0.2em;color: black;border-radius: 0.25em;background-color: #f0f8ff;}#sk-container-id-1 input.sk-toggleable__control:checked~div.sk-toggleable__content {max-height: 200px;max-width: 100%;overflow: auto;}#sk-container-id-1 input.sk-toggleable__control:checked~label.sk-toggleable__label-arrow:before {content: \"▾\";}#sk-container-id-1 div.sk-estimator input.sk-toggleable__control:checked~label.sk-toggleable__label {background-color: #d4ebff;}#sk-container-id-1 div.sk-label input.sk-toggleable__control:checked~label.sk-toggleable__label {background-color: #d4ebff;}#sk-container-id-1 input.sk-hidden--visually {border: 0;clip: rect(1px 1px 1px 1px);clip: rect(1px, 1px, 1px, 1px);height: 1px;margin: -1px;overflow: hidden;padding: 0;position: absolute;width: 1px;}#sk-container-id-1 div.sk-estimator {font-family: monospace;background-color: #f0f8ff;border: 1px dotted black;border-radius: 0.25em;box-sizing: border-box;margin-bottom: 0.5em;}#sk-container-id-1 div.sk-estimator:hover {background-color: #d4ebff;}#sk-container-id-1 div.sk-parallel-item::after {content: \"\";width: 100%;border-bottom: 1px solid gray;flex-grow: 1;}#sk-container-id-1 div.sk-label:hover label.sk-toggleable__label {background-color: #d4ebff;}#sk-container-id-1 div.sk-serial::before {content: \"\";position: absolute;border-left: 1px solid gray;box-sizing: border-box;top: 0;bottom: 0;left: 50%;z-index: 0;}#sk-container-id-1 div.sk-serial {display: flex;flex-direction: column;align-items: center;background-color: white;padding-right: 0.2em;padding-left: 0.2em;position: relative;}#sk-container-id-1 div.sk-item {position: relative;z-index: 1;}#sk-container-id-1 div.sk-parallel {display: flex;align-items: stretch;justify-content: center;background-color: white;position: relative;}#sk-container-id-1 div.sk-item::before, #sk-container-id-1 div.sk-parallel-item::before {content: \"\";position: absolute;border-left: 1px solid gray;box-sizing: border-box;top: 0;bottom: 0;left: 50%;z-index: -1;}#sk-container-id-1 div.sk-parallel-item {display: flex;flex-direction: column;z-index: 1;position: relative;background-color: white;}#sk-container-id-1 div.sk-parallel-item:first-child::after {align-self: flex-end;width: 50%;}#sk-container-id-1 div.sk-parallel-item:last-child::after {align-self: flex-start;width: 50%;}#sk-container-id-1 div.sk-parallel-item:only-child::after {width: 0;}#sk-container-id-1 div.sk-dashed-wrapped {border: 1px dashed gray;margin: 0 0.4em 0.5em 0.4em;box-sizing: border-box;padding-bottom: 0.4em;background-color: white;}#sk-container-id-1 div.sk-label label {font-family: monospace;font-weight: bold;display: inline-block;line-height: 1.2em;}#sk-container-id-1 div.sk-label-container {text-align: center;}#sk-container-id-1 div.sk-container {/* jupyter's `normalize.less` sets `[hidden] { display: none; }` but bootstrap.min.css set `[hidden] { display: none !important; }` so we also need the `!important` here to be able to override the default hidden behavior on the sphinx rendered scikit-learn.org. See: https://github.com/scikit-learn/scikit-learn/issues/21755 */display: inline-block !important;position: relative;}#sk-container-id-1 div.sk-text-repr-fallback {display: none;}</style><div id=\"sk-container-id-1\" class=\"sk-top-container\"><div class=\"sk-text-repr-fallback\"><pre>CountVectorizer(max_features=136, stop_words=&#x27;english&#x27;)</pre><b>In a Jupyter environment, please rerun this cell to show the HTML representation or trust the notebook. <br />On GitHub, the HTML representation is unable to render, please try loading this page with nbviewer.org.</b></div><div class=\"sk-container\" hidden><div class=\"sk-item\"><div class=\"sk-estimator sk-toggleable\"><input class=\"sk-toggleable__control sk-hidden--visually\" id=\"sk-estimator-id-1\" type=\"checkbox\" checked><label for=\"sk-estimator-id-1\" class=\"sk-toggleable__label sk-toggleable__label-arrow\">CountVectorizer</label><div class=\"sk-toggleable__content\"><pre>CountVectorizer(max_features=136, stop_words=&#x27;english&#x27;)</pre></div></div></div></div></div>"
      ],
      "text/plain": [
       "CountVectorizer(max_features=136, stop_words='english')"
      ]
     },
     "execution_count": 12,
     "metadata": {},
     "output_type": "execute_result"
    }
   ],
   "source": [
    "cv"
   ]
  },
  {
   "cell_type": "code",
   "execution_count": 13,
   "id": "0bdf8a9b-c86d-4020-8985-5aab1ff154d6",
   "metadata": {},
   "outputs": [
    {
     "data": {
      "text/plain": [
       "(135, 136)"
      ]
     },
     "execution_count": 13,
     "metadata": {},
     "output_type": "execute_result"
    }
   ],
   "source": [
    "vector.shape"
   ]
  },
  {
   "cell_type": "code",
   "execution_count": 14,
   "id": "e88461ad-dc99-46ee-88b6-893b7508d70b",
   "metadata": {},
   "outputs": [
    {
     "ename": "NameError",
     "evalue": "name 'cosine_similarity' is not defined",
     "output_type": "error",
     "traceback": [
      "\u001b[1;31m---------------------------------------------------------------------------\u001b[0m",
      "\u001b[1;31mNameError\u001b[0m                                 Traceback (most recent call last)",
      "Cell \u001b[1;32mIn[14], line 1\u001b[0m\n\u001b[1;32m----> 1\u001b[0m similarity\u001b[38;5;241m=\u001b[39m\u001b[43mcosine_similarity\u001b[49m(vector)\n",
      "\u001b[1;31mNameError\u001b[0m: name 'cosine_similarity' is not defined"
     ]
    }
   ],
   "source": [
    "similarity=cosine_similarity(vector)"
   ]
  },
  {
   "cell_type": "code",
   "execution_count": null,
   "id": "0203000f-40db-462e-b8a7-bf89234b4482",
   "metadata": {},
   "outputs": [],
   "source": [
    "from sklearn.metrics.pairwise import cosine_similarity"
   ]
  },
  {
   "cell_type": "code",
   "execution_count": null,
   "id": "8f83f4b1-c151-45a4-ba4c-9d97ab47c63d",
   "metadata": {},
   "outputs": [],
   "source": [
    "similarity=cosine_similarity(vector)"
   ]
  },
  {
   "cell_type": "code",
   "execution_count": null,
   "id": "792d8f90-6846-4db3-acf1-446b203d5617",
   "metadata": {},
   "outputs": [],
   "source": [
    "similarity"
   ]
  },
  {
   "cell_type": "code",
   "execution_count": null,
   "id": "893f3e1f-5b7a-4dd4-832c-e847b3d06a6f",
   "metadata": {},
   "outputs": [],
   "source": [
    "courses[courses['tags']==\"8 yearsPython, Java, SQLProblem-solving, CommunicationCRM System, E-commerce WebsiteAI, CybersecuritySenior Software EngineerTechnical ArchitectAdvanced Software Architecture (4.3), System Design Principles (4.5), Cloud Solutions (4.2).Advanced Software Architecture (4.3)- Master's in Software Engineering (Rating: 4.5) - AWS Certified Solutions Architect - Associate (Rating: 4.0) - Microservices Fundamentals (Rating: 4.2) - Agile Software Development (Rating: 4.1) - Advanced Database Management (Rating: 4.3)\"].index[0]"
   ]
  },
  {
   "cell_type": "code",
   "execution_count": null,
   "id": "91cb36f2-1030-440c-a136-2170b9d5343b",
   "metadata": {},
   "outputs": [],
   "source": [
    "distance = sorted(list(enumerate(similarity[2])), reverse=True, key=lambda vector: vector[1])\n",
    "\n",
    "for i in distance[0:5]:\n",
    "    print(courses.iloc[i[0]]['List of Courses'])\n"
   ]
  },
  {
   "cell_type": "code",
   "execution_count": null,
   "id": "784e0667-b504-4631-b478-c86b9bb7647c",
   "metadata": {},
   "outputs": [],
   "source": [
    "courses[courses['Career Aspirations']==\"Technical Architect\"].index[0]"
   ]
  },
  {
   "cell_type": "code",
   "execution_count": null,
   "id": "53e929d1-6342-4c73-b8c8-2ba6ff19fca2",
   "metadata": {},
   "outputs": [],
   "source": [
    "courses['tags']"
   ]
  },
  {
   "cell_type": "code",
   "execution_count": null,
   "id": "6ec6dec7-7bc8-4ec0-b08d-1829f008366d",
   "metadata": {},
   "outputs": [],
   "source": [
    "full_row = courses['tags'].iloc[0]\n",
    "print(full_row)\n"
   ]
  },
  {
   "cell_type": "code",
   "execution_count": null,
   "id": "dde5e02a-796d-4cbd-b02e-dd4efe2f1d34",
   "metadata": {},
   "outputs": [],
   "source": [
    "courses[courses['tags']==\"8 yearsPython, Java, SQLProblem-solving, CommunicationCRM System, E-commerce WebsiteAI, CybersecuritySenior Software EngineerTechnical ArchitectAdvanced Software Architecture (4.3), System Design Principles (4.5), Cloud Solutions (4.2).- Master's in Software Engineering (Rating: 4.5) - AWS Certified Solutions Architect - Associate (Rating: 4.0) - Microservices Fundamentals (Rating: 4.2) - Agile Software Development (Rating: 4.1) - Advanced Database Management (Rating: 4.3)\"].index[0]"
   ]
  },
  {
   "cell_type": "code",
   "execution_count": null,
   "id": "9e3b2027-2e73-4621-8ccb-e54fa05c436e",
   "metadata": {},
   "outputs": [],
   "source": [
    "distance = sorted(list(enumerate(similarity[2])), reverse=True, key=lambda vector: vector[1])\n",
    "\n",
    "for i in distance[0:5]:\n",
    "    print(courses.iloc[i[0]]['List of Courses'])\n"
   ]
  },
  {
   "cell_type": "code",
   "execution_count": null,
   "id": "1f8c015f-3beb-406f-8040-15028e3a83dd",
   "metadata": {},
   "outputs": [],
   "source": [
    "full_row = courses['tags'].iloc[3]\n",
    "print(full_row)"
   ]
  },
  {
   "cell_type": "code",
   "execution_count": null,
   "id": "6f9452d8-7865-4310-b24c-fc200d38007b",
   "metadata": {},
   "outputs": [],
   "source": [
    "courses[courses['tags']==\"4 yearsJava, Spring Boot, MySQLProblem-solving, AdaptabilityInventory Management System, API DevelopmentDatabase Management, Backend DevelopmentJunior Software DeveloperAdvancing to Senior DeveloperObject-Oriented Programming (3.9), Software Testing (4.2), Code Refactoring (4.1).- Bachelor's in Computer Science (Rating: 4.5) - Advanced Java Programming (Rating: 4.2) - Database Design and Management (Rating: 4.4) - Software Development Best Practices (Rating: 4.3) - Design Patterns in Software Engineering (Rating: 4.1)\"].index[0]"
   ]
  },
  {
   "cell_type": "code",
   "execution_count": null,
   "id": "5a9dc3f4-c30a-4206-abaa-9975e33e78be",
   "metadata": {},
   "outputs": [],
   "source": [
    "distance = sorted(list(enumerate(similarity[2])), reverse=True, key=lambda vector: vector[1])\n",
    "\n",
    "for i in distance[0:5]:\n",
    "    print(courses.iloc[i[0]]['List of Courses'])\n"
   ]
  },
  {
   "cell_type": "code",
   "execution_count": null,
   "id": "7a2317b3-aea6-43ae-b12a-16bd3f48368b",
   "metadata": {},
   "outputs": [],
   "source": [
    "def recommend(courses):\n",
    "    index=courses[courses['tags']==courses].index[0]\n",
    "    distance = sorted(list(enumerate(similarity[index])), reverse=True, key=lambda vector:vector[1])\n",
    "    for i in distance[0:5]:\n",
    "        print(courses.iloc[i[0]].title)"
   ]
  },
  {
   "cell_type": "code",
   "execution_count": null,
   "id": "8893fe39-1729-4abe-a845-bf1240d3477e",
   "metadata": {},
   "outputs": [],
   "source": [
    "recommend(\"4 yearsJava, Spring Boot, MySQLProblem-solving, AdaptabilityInventory Management System, API DevelopmentDatabase Management, Backend DevelopmentJunior Software DeveloperAdvancing to Senior DeveloperObject-Oriented Programming (3.9), Software Testing (4.2), Code Refactoring (4.1).- Bachelor's in Computer Science (Rating: 4.5) - Advanced Java Programming (Rating: 4.2) - Database Design and Management (Rating: 4.4) - Software Development Best Practices (Rating: 4.3) - Design Patterns in Software Engineering (Rating: 4.1)\")"
   ]
  },
  {
   "cell_type": "code",
   "execution_count": null,
   "id": "312cc184-60ef-431a-b7f3-8064ac49909c",
   "metadata": {},
   "outputs": [],
   "source": [
    "def recommend(courses):\n",
    "    index=courses[courses['tags']==courses].index[0]\n",
    "    distance = sorted(list(enumerate(similarity[index])), reverse=True, key=lambda vector:vector[1])\n",
    "    for i in distance[0:5]:\n",
    "        print(courses.iloc[i[0]]['List of Courses'])"
   ]
  },
  {
   "cell_type": "code",
   "execution_count": null,
   "id": "85cdccab-2981-4516-814a-13e1aa122ae1",
   "metadata": {},
   "outputs": [],
   "source": [
    "recommend(\"4 yearsJava, Spring Boot, MySQLProblem-solving, AdaptabilityInventory Management System, API DevelopmentDatabase Management, Backend DevelopmentJunior Software DeveloperAdvancing to Senior DeveloperObject-Oriented Programming (3.9), Software Testing (4.2), Code Refactoring (4.1).- Bachelor's in Computer Science (Rating: 4.5) - Advanced Java Programming (Rating: 4.2) - Database Design and Management (Rating: 4.4) - Software Development Best Practices (Rating: 4.3) - Design Patterns in Software Engineering (Rating: 4.1)\")"
   ]
  },
  {
   "cell_type": "code",
   "execution_count": null,
   "id": "b67afeba-daeb-429f-8b52-f9a6fd0b6dcb",
   "metadata": {},
   "outputs": [],
   "source": [
    "new_data[new_data['tags']==\"8 yearsPython, Java, SQLProblem-solving, CommunicationCRM System, E-commerce WebsiteAI, CybersecuritySenior Software EngineerTechnical ArchitectAdvanced Software Architecture (4.3), System Design Principles (4.5), Cloud Solutions (4.2).- Master's in Software Engineering (Rating: 4.5) - AWS Certified Solutions Architect - Associate (Rating: 4.0) - Microservices Fundamentals (Rating: 4.2) - Agile Software Development (Rating: 4.1) - Advanced Database Management (Rating: 4.3)\"].index[0]"
   ]
  },
  {
   "cell_type": "code",
   "execution_count": null,
   "id": "a3a66856-d880-4dfc-baee-7377af7494c3",
   "metadata": {},
   "outputs": [],
   "source": [
    "new_data = courses.drop(columns=['Work Experience', 'Technical Skills', 'Soft Skills',\n",
    "       'Projects Completed', 'Interests and Passions', 'Position',\n",
    "       'Career Aspirations', 'Courses Completed', 'List of Courses',\n",
    "       'Learning Paths (with Ratings)'])"
   ]
  },
  {
   "cell_type": "code",
   "execution_count": null,
   "id": "0b749d0c-de10-4493-9551-6e296ee008a4",
   "metadata": {},
   "outputs": [],
   "source": [
    "new_data"
   ]
  },
  {
   "cell_type": "code",
   "execution_count": null,
   "id": "8f1ebc69-0dc1-44d7-8fb5-f85c83166ea5",
   "metadata": {},
   "outputs": [],
   "source": [
    "def recommend(movies):\n",
    "    index=new_data[new_data['tags']==courses].index[0]\n",
    "    distance = sorted(list(enumerate(similarity[index])), reverse=True, key=lambda vector:vector[1])\n",
    "    for i in distance[0:5]:\n",
    "        print(new.iloc[i[0]]['List of Courses'])"
   ]
  },
  {
   "cell_type": "code",
   "execution_count": null,
   "id": "c610b9c5-62e4-479e-afa1-4e48e15bb17a",
   "metadata": {},
   "outputs": [],
   "source": [
    "recommend(\"4 yearsJava, Spring Boot, MySQLProblem-solving, AdaptabilityInventory Management System, API DevelopmentDatabase Management, Backend DevelopmentJunior Software DeveloperAdvancing to Senior DeveloperObject-Oriented Programming (3.9), Software Testing (4.2), Code Refactoring (4.1).- Bachelor's in Computer Science (Rating: 4.5) - Advanced Java Programming (Rating: 4.2) - Database Design and Management (Rating: 4.4) - Software Development Best Practices (Rating: 4.3) - Design Patterns in Software Engineering (Rating: 4.1)\")"
   ]
  },
  {
   "cell_type": "code",
   "execution_count": null,
   "id": "1689f797-d7f8-44bc-bc33-587a9bc4b538",
   "metadata": {},
   "outputs": [],
   "source": [
    "new_data2 = courses.drop(columns=['Work Experience', 'Technical Skills', 'Soft Skills',\n",
    "       'Projects Completed', 'Interests and Passions', 'Position',\n",
    "       'Career Aspirations', 'Courses Completed',\n",
    "       'Learning Paths (with Ratings)'])"
   ]
  },
  {
   "cell_type": "code",
   "execution_count": null,
   "id": "bea00f50-f6d6-4b2e-b76a-e4d3f6a11e9f",
   "metadata": {},
   "outputs": [],
   "source": [
    "new_data2"
   ]
  },
  {
   "cell_type": "code",
   "execution_count": null,
   "id": "26190e43-ee2c-4165-9414-a796fa06cef7",
   "metadata": {},
   "outputs": [],
   "source": [
    "def recommend(courses):\n",
    "    index=new_data2[new_data2['tags']==courses].index[0]\n",
    "    distance = sorted(list(enumerate(similarity[index])), reverse=True, key=lambda vector:vector[1])\n",
    "    for i in distance[0:5]:\n",
    "        print(new_data2.iloc[i[0]]['List of Courses'])"
   ]
  },
  {
   "cell_type": "code",
   "execution_count": null,
   "id": "d349de78-5ab9-40a1-8afe-cf381f95e752",
   "metadata": {
    "scrolled": true
   },
   "outputs": [],
   "source": [
    "recommend(\"4 yearsJava, Spring Boot, MySQLProblem-solving, AdaptabilityInventory Management System, API DevelopmentDatabase Management, Backend DevelopmentJunior Software DeveloperAdvancing to Senior DeveloperObject-Oriented Programming (3.9), Software Testing (4.2), Code Refactoring (4.1).- Bachelor's in Computer Science (Rating: 4.5) - Advanced Java Programming (Rating: 4.2) - Database Design and Management (Rating: 4.4) - Software Development Best Practices (Rating: 4.3) - Design Patterns in Software Engineering (Rating: 4.1)\")"
   ]
  },
  {
   "cell_type": "code",
   "execution_count": null,
   "id": "75d4e971-06a5-4c9e-936d-8de6ced91c18",
   "metadata": {},
   "outputs": [],
   "source": [
    "def recommend(courses):\n",
    "    index=new_data2[new_data2['tags']==courses].index[0]\n",
    "    distance = sorted(list(enumerate(similarity[index])), reverse=True, key=lambda vector:vector[1])\n",
    "    for i in distance[0:5]:\n",
    "        print(new_data2.iloc[i[0]]['List of Courses'])"
   ]
  },
  {
   "cell_type": "code",
   "execution_count": null,
   "id": "965878fc-a0fa-4a1e-b32c-83f9a7eabc87",
   "metadata": {},
   "outputs": [],
   "source": [
    "recommend(\"4 yearsJava, Spring Boot, MySQLProblem-solving, AdaptabilityInventory Management System, API DevelopmentDatabase Management, Backend DevelopmentJunior Software DeveloperAdvancing to Senior DeveloperObject-Oriented Programming (3.9), Software Testing (4.2), Code Refactoring (4.1).- Bachelor's in Computer Science (Rating: 4.5) - Advanced Java Programming (Rating: 4.2) - Database Design and Management (Rating: 4.4) - Software Development Best Practices (Rating: 4.3) - Design Patterns in Software Engineering (Rating: 4.1)\")"
   ]
  },
  {
   "cell_type": "code",
   "execution_count": null,
   "id": "0fab82c4-bddb-4369-aa8f-b06149baa2f0",
   "metadata": {},
   "outputs": [],
   "source": [
    "recommend(\"4 yearsJava, Spring Boot, MySQLProblem-solving, AdaptabilityInventory Management System, API DevelopmentDatabase Management, Backend DevelopmentJunior Software DeveloperAdvancing to Senior DeveloperObject-Oriented Programming (3.9), Software Testing (4.2), Code Refactoring (4.1).- Bachelor's in Computer Science (Rating: 4.5) - Advanced Java Programming (Rating: 4.2) - Database Design and Management (Rating: 4.4) - Software Development Best Practices (Rating: 4.3) - Design Patterns in Software Engineering (Rating: 4.1)\")"
   ]
  },
  {
   "cell_type": "code",
   "execution_count": null,
   "id": "2595cdf9-4daf-45d3-a7f3-3b25802c341e",
   "metadata": {},
   "outputs": [],
   "source": [
    "import pickle"
   ]
  },
  {
   "cell_type": "code",
   "execution_count": null,
   "id": "adebfd10-f4c0-4ba6-abcb-b10e42cdd188",
   "metadata": {},
   "outputs": [],
   "source": [
    "pickle.dump(new_data2,open('courses_list', 'wb'))"
   ]
  },
  {
   "cell_type": "code",
   "execution_count": null,
   "id": "be526f2a-8d63-4a83-b729-a7a5046c8d2a",
   "metadata": {},
   "outputs": [],
   "source": [
    "pickle.dump(similarity, open('similarity.pkl', 'wb'))"
   ]
  },
  {
   "cell_type": "code",
   "execution_count": null,
   "id": "3920daf0-fb66-4e09-8210-c6c1d028abcd",
   "metadata": {},
   "outputs": [],
   "source": [
    "pickle.load(open('courses_list.pkl', 'rb'))"
   ]
  },
  {
   "cell_type": "code",
   "execution_count": null,
   "id": "122b3c1c-496e-421b-af07-b94452d6144a",
   "metadata": {},
   "outputs": [],
   "source": [
    "new_data2"
   ]
  },
  {
   "cell_type": "code",
   "execution_count": 15,
   "id": "66064426-af48-4513-8b08-3e81b2ccf7e6",
   "metadata": {},
   "outputs": [
    {
     "ename": "NameError",
     "evalue": "name 'new_data2' is not defined",
     "output_type": "error",
     "traceback": [
      "\u001b[1;31m---------------------------------------------------------------------------\u001b[0m",
      "\u001b[1;31mNameError\u001b[0m                                 Traceback (most recent call last)",
      "Cell \u001b[1;32mIn[15], line 1\u001b[0m\n\u001b[1;32m----> 1\u001b[0m \u001b[43mnew_data2\u001b[49m\n",
      "\u001b[1;31mNameError\u001b[0m: name 'new_data2' is not defined"
     ]
    }
   ],
   "source": [
    "new_data2"
   ]
  },
  {
   "cell_type": "code",
   "execution_count": 1,
   "id": "c45ae473-1c1c-48eb-acaa-0e876b61100b",
   "metadata": {},
   "outputs": [
    {
     "ename": "NameError",
     "evalue": "name 'cv' is not defined",
     "output_type": "error",
     "traceback": [
      "\u001b[1;31m------------------------------------------------------\u001b[0m",
      "\u001b[1;31mNameError\u001b[0m            Traceback (most recent call last)",
      "Cell \u001b[1;32mIn[1], line 1\u001b[0m\n\u001b[1;32m----> 1\u001b[0m \u001b[43mcv\u001b[49m\n",
      "\u001b[1;31mNameError\u001b[0m: name 'cv' is not defined"
     ]
    }
   ],
   "source": [
    "cv"
   ]
  },
  {
   "cell_type": "code",
   "execution_count": null,
   "id": "dba0758a-37c2-4806-8677-290887b63786",
   "metadata": {},
   "outputs": [],
   "source": []
  }
 ],
 "metadata": {
  "kernelspec": {
   "display_name": "Python 3 (ipykernel)",
   "language": "python",
   "name": "python3"
  },
  "language_info": {
   "codemirror_mode": {
    "name": "ipython",
    "version": 3
   },
   "file_extension": ".py",
   "mimetype": "text/x-python",
   "name": "python",
   "nbconvert_exporter": "python",
   "pygments_lexer": "ipython3",
   "version": "3.12.0"
  }
 },
 "nbformat": 4,
 "nbformat_minor": 5
}
